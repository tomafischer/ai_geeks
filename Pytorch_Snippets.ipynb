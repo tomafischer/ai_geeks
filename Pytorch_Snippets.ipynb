{
  "nbformat": 4,
  "nbformat_minor": 0,
  "metadata": {
    "colab": {
      "name": "Pytorch Snippets.ipynb",
      "provenance": [],
      "authorship_tag": "ABX9TyOCM1cLG9RSSg4yKMCuMokc",
      "include_colab_link": true
    },
    "kernelspec": {
      "name": "python3",
      "display_name": "Python 3"
    },
    "language_info": {
      "name": "python"
    }
  },
  "cells": [
    {
      "cell_type": "markdown",
      "metadata": {
        "id": "view-in-github",
        "colab_type": "text"
      },
      "source": [
        "<a href=\"https://colab.research.google.com/github/tomafischer/ai_geeks/blob/main/Pytorch_Snippets.ipynb\" target=\"_parent\"><img src=\"https://colab.research.google.com/assets/colab-badge.svg\" alt=\"Open In Colab\"/></a>"
      ]
    },
    {
      "cell_type": "code",
      "metadata": {
        "id": "UFBgTGpsk9pV"
      },
      "source": [
        "import numpy as np\n",
        "import torch\n",
        "import torch.nn as nn\n",
        "\n",
        "import unittest"
      ],
      "execution_count": 15,
      "outputs": []
    },
    {
      "cell_type": "code",
      "metadata": {
        "colab": {
          "base_uri": "https://localhost:8080/"
        },
        "id": "aCa92l4ylFDi",
        "outputId": "380b8149-cea4-4ffd-9f42-b93fe4f8584c"
      },
      "source": [
        "#### \n",
        "#.  Instanciate and Coversions\n",
        "####\n",
        "\n",
        "# from list to tensor\n",
        "a = [[1,2],[3,4]]\n",
        "a_tensor = torch.tensor(a)\n",
        "print(a_tensor)\n",
        "# from numpy to tensor\n",
        "a_np = torch.tensor(np.array(a))\n",
        "print(a_np)\n",
        "\n",
        "# from tensor to numpy\n",
        "b_np = a_np.numpy()\n",
        "\n",
        "# getting a value\n",
        "one_item = a_tensor[1,1].item()\n",
        "print(f\"Item: {one_item}\")\n",
        "\n",
        "\n",
        "# conversions\n",
        "a_float_tensor = torch.tensor(a).float()\n",
        "a_flat64_tensor = torch.tensor(a, dtype= torch.float64)"
      ],
      "execution_count": 17,
      "outputs": [
        {
          "output_type": "stream",
          "name": "stdout",
          "text": [
            "tensor([[1, 2],\n",
            "        [3, 4]])\n",
            "tensor([[1, 2],\n",
            "        [3, 4]])\n",
            "Item: 4\n"
          ]
        }
      ]
    },
    {
      "cell_type": "code",
      "metadata": {
        "colab": {
          "base_uri": "https://localhost:8080/"
        },
        "id": "tn1qAi9IlYLR",
        "outputId": "9cb5420a-d19e-4831-ae34-4a2ad58232ab"
      },
      "source": [
        "### Unit tests\n",
        "class Test_torch_conversions(unittest.TestCase):\n",
        "  def test_dtype_conversions(self):\n",
        "    # arrange\n",
        "    a = [[1,2],[3,4]]\n",
        "    # act\n",
        "    a_float_tensor = torch.tensor(a).float()\n",
        "    a_flat64_tensor = torch.tensor(a, dtype= torch.float64)\n",
        "    # assert\n",
        "    self.assertEqual(a_float_tensor.dtype, torch.float)\n",
        "\n",
        "  unittest.main(argv=[''], verbosity=2, exit=False)"
      ],
      "execution_count": 19,
      "outputs": [
        {
          "output_type": "stream",
          "name": "stderr",
          "text": [
            "test_dtype_conversions (__main__.Test_torch_conversions) ... ok\n",
            "\n",
            "----------------------------------------------------------------------\n",
            "Ran 1 test in 0.003s\n",
            "\n",
            "OK\n"
          ]
        }
      ]
    },
    {
      "cell_type": "code",
      "metadata": {
        "id": "gxJNsPFjoK3B"
      },
      "source": [
        ""
      ],
      "execution_count": null,
      "outputs": []
    }
  ]
}