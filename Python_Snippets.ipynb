{
  "nbformat": 4,
  "nbformat_minor": 0,
  "metadata": {
    "colab": {
      "name": "Python Snippets.ipynb",
      "provenance": [],
      "toc_visible": true,
      "authorship_tag": "ABX9TyPcVE+T+0GlboHKOOib0GAV",
      "include_colab_link": true
    },
    "kernelspec": {
      "name": "python3",
      "display_name": "Python 3"
    },
    "language_info": {
      "name": "python"
    }
  },
  "cells": [
    {
      "cell_type": "markdown",
      "metadata": {
        "id": "view-in-github",
        "colab_type": "text"
      },
      "source": [
        "<a href=\"https://colab.research.google.com/github/tomafischer/ai_geeks/blob/main/Python_Snippets.ipynb\" target=\"_parent\"><img src=\"https://colab.research.google.com/assets/colab-badge.svg\" alt=\"Open In Colab\"/></a>"
      ]
    },
    {
      "cell_type": "code",
      "metadata": {
        "id": "8JbLCJ_zkO5Y"
      },
      "source": [
        "import os\n",
        "import numpy as np\n",
        "import pandas as pd\n",
        "import pytest"
      ],
      "execution_count": null,
      "outputs": []
    },
    {
      "cell_type": "markdown",
      "source": [
        "# General: Directory, Path functions, Formating\n",
        "\n",
        "Conda create python environment\n",
        "```bash\n",
        "## create env\n",
        "conda create --name py12 python=3.12\n",
        "conda env remove --name py12\n",
        "\n",
        "## activate venv\n",
        "python -m venv .venv\n",
        "\n",
        "# Windows\n",
        ".venv\\Scripts\\activate\n",
        "\n",
        "#Linux/Mac\n",
        "\n",
        "## upgrade pip\n",
        "python.exe -m pip install --upgrade pip --trusted-host pypi.org --trusted-host pypi.python.org --trusted-host files.pythonhosted.org111\n",
        "\n",
        "## install packages for requirements.txt\n",
        "pip install --trusted-host pypi.org --trusted-host pypi.python.org --trusted-host files.pythonhosted.org -r requirement.txt\n",
        "\n",
        "## work around the ssl issues\n",
        "pip install --trusted-host pypi.org --trusted-host pypi.python.org --trusted-host files.pythonhosted.org <package_name>\n",
        "```\n",
        "\n",
        "### Jupyter\n",
        "# Install and run\n",
        "```\n",
        "pip install notebook\n",
        "# Run\n",
        "jupyter notebook\n",
        "```\n",
        "\n",
        "Autocomplete\n",
        "```\n",
        "%config Completer.use_jedi = False\n",
        "setting indentation to 2\n",
        "```\n",
        "https://stackoverflow.com/questions/19068730/how-do-i-change-the-autoindent-to-2-space-in-ipython-notebook\n",
        "```javascript\n",
        "var cell = Jupyter.notebook.get_selected_cell();\n",
        "var config = cell.config;\n",
        "var patch = {\n",
        "      CodeCell:{\n",
        "        cm_config:{indentUnit:2}\n",
        "      }\n",
        "    }\n",
        "config.update(patch)\n",
        "```\n",
        "## Send it interactive Visual Code\n",
        "Preferences -> Settings -> Send Selection To Interactive Window\n",
        "## Sharepoint\n",
        "[Setting up Sharepoint](\n",
        "https://stackoverflow.com/questions/55922791/azure-sharepoint-multi-factor-authentication-with-python)\n",
        "\n",
        "https://github.com/vgrem/Office365-REST-Python-Client\n",
        "```bash\n",
        "pip install Office365-REST-Python-Client\n",
        "```\n",
        "\n"
      ],
      "metadata": {
        "id": "9C1XbjYkTaBq"
      }
    },
    {
      "cell_type": "code",
      "source": [
        "#shows all variables\n",
        "%whos"
      ],
      "metadata": {
        "id": "eVUt3TtlXswP",
        "outputId": "84d1a538-7141-4e45-da3f-f854a33631e0",
        "colab": {
          "base_uri": "https://localhost:8080/"
        }
      },
      "execution_count": null,
      "outputs": [
        {
          "output_type": "stream",
          "name": "stdout",
          "text": [
            "Variable       Type      Data/Info\n",
            "----------------------------------\n",
            "current_path   str       /\n",
            "np             module    <module 'numpy' from '/us<...>kages/numpy/__init__.py'>\n",
            "os             module    <module 'os' from '/usr/lib/python3.7/os.py'>\n",
            "sample_mean    float     3.2344\n",
            "st             module    <module 'scipy.stats' fro<...>scipy/stats/__init__.py'>\n",
            "sys            module    <module 'sys' (built-in)>\n"
          ]
        }
      ]
    },
    {
      "cell_type": "code",
      "source": [
        "# clear the workspace\n",
        "%reset -sf"
      ],
      "metadata": {
        "id": "Akeo4RFPXzYQ"
      },
      "execution_count": null,
      "outputs": []
    },
    {
      "cell_type": "code",
      "metadata": {
        "colab": {
          "base_uri": "https://localhost:8080/"
        },
        "id": "X2fj61E-kTq4",
        "outputId": "9496bdbe-6ffc-4186-f614-001cd10983b0"
      },
      "source": [
        "#### Python version\n",
        "import sys\n",
        "import os\n",
        "import numpy as np\n",
        "print(f\"python version: {sys.version}\")\n",
        "\n",
        "#####\n",
        "#   Directory, Path functions\n",
        "#####\n",
        "# Get current directory\n",
        "current_path = os.getcwd()\n",
        "print(os.getcwd())\n",
        "#get file name from path\n",
        "os.path.basename(current_path)\n",
        "os.chdir('../')\n",
        "\n",
        "# adjusting unix file patht to windows\n",
        "import os\n",
        "def adjust_path(path):\n",
        "    return os.path.join(*path.split('/'))\n",
        "\n",
        "#string formating\n",
        "sample_mean = 3.2344\n",
        "print(f'We have determined the mean of the population to be {sample_mean:.2f}')\n",
        "\n",
        "\n",
        "\n",
        "import scipy.stats as st\n",
        "st.norm.rvs(loc= 3, scale=2, size=6)"
      ],
      "execution_count": null,
      "outputs": [
        {
          "output_type": "stream",
          "name": "stdout",
          "text": [
            "python version: 3.7.12 (default, Sep 10 2021, 00:21:48) \n",
            "[GCC 7.5.0]\n",
            "/\n",
            "We have determined the mean of the population to be 3.23\n"
          ]
        },
        {
          "output_type": "execute_result",
          "data": {
            "text/plain": [
              "array([ 3.0314927 ,  2.61193682, -0.37117757,  3.035198  ,  4.3989898 ,\n",
              "        2.89420159])"
            ]
          },
          "metadata": {},
          "execution_count": 11
        }
      ]
    },
    {
      "cell_type": "markdown",
      "source": [
        "# List operations: slicing, from List to string\n",
        "# Dictonaries"
      ],
      "metadata": {
        "id": "mZOZq4efWmP7"
      }
    },
    {
      "cell_type": "code",
      "source": [
        "###\n",
        "# Check for empty or None\n",
        "###\n",
        "if not []:\n",
        "  print(\"list is empty\")\n",
        "\n",
        "###\n",
        "# to string from list\n",
        "###\n",
        "list1 = [1, 2, 3,4 ]\n",
        "list2 = [str(i) for i in list1]\n",
        "','.join(list2)\n",
        "str1 = ','.join(str(e) for e in list1 if e%2)\n",
        "print(str1)\n",
        "\n",
        "import json\n",
        "# dict to json\n",
        "json.dumps([{'a':1},{'b':1}])\n",
        "\n",
        "\n",
        "#slicing\n",
        "print(f\"Second to last { list1[1:]}\")\n",
        "print(f\"First to last to last { list1[:-1]}\")\n",
        "print(f\"every second: { list1[::2]}\")\n",
        "\n",
        "###\n",
        "# Dictonary\n",
        "##\n",
        "#merge\n",
        "x = {'a': 1, 'b': 2}\n",
        "y = {'b': 10, 'c': 11}\n",
        "# >= python 3.9\n",
        "z = x|y\n",
        "# >= phthon 3.5\n",
        "z = {**x, **y}"
      ],
      "metadata": {
        "id": "7ni9unpnWurN",
        "outputId": "1e7a7502-010c-4635-b455-80559fb14347",
        "colab": {
          "base_uri": "https://localhost:8080/"
        }
      },
      "execution_count": null,
      "outputs": [
        {
          "output_type": "stream",
          "name": "stdout",
          "text": [
            "1,3\n",
            "Second to last [2, 3, 4]\n",
            "First to last to last [1, 2, 3]\n",
            "every second: [1, 3]\n"
          ]
        }
      ]
    },
    {
      "cell_type": "markdown",
      "source": [
        "# Conditional for if"
      ],
      "metadata": {
        "id": "U7agaSe7XAGP"
      }
    },
    {
      "cell_type": "code",
      "source": [
        "l = [1,2,3,4]\n",
        "\",\".join([str(i) for i in l if i%2==0])"
      ],
      "metadata": {
        "id": "50nb_gdkXF2n",
        "outputId": "145d896b-449b-4f87-95ee-75bac7523e87",
        "colab": {
          "base_uri": "https://localhost:8080/",
          "height": 35
        }
      },
      "execution_count": null,
      "outputs": [
        {
          "output_type": "execute_result",
          "data": {
            "application/vnd.google.colaboratory.intrinsic+json": {
              "type": "string"
            },
            "text/plain": [
              "'2,4'"
            ]
          },
          "metadata": {},
          "execution_count": 7
        }
      ]
    },
    {
      "cell_type": "markdown",
      "source": [
        "# Random, shuffeling, smapling"
      ],
      "metadata": {
        "id": "_hDSlCEKXY6e"
      }
    },
    {
      "cell_type": "code",
      "source": [
        "####\n",
        "#.   Random\n",
        "####\n",
        "## integers\n",
        "import numpy as np\n",
        "import matplotlib.pyplot as plt\n",
        "import uuid\n",
        "\n",
        "\n",
        "#https://docs.python.org/3/library/uuid.html\n",
        "uid = str(uuid.uuid4())\n",
        "print(f\"uuid: {uid}\")\n",
        "\n",
        "np.random.randint(1,100)\n",
        "#44\n",
        "data = np.random.randint(1,100,10)\n",
        "#array([13, 64, 27, 63, 46, 68, 92, 10, 58, 24])\n",
        "\n",
        "#random float unform\n",
        "np.random.rand(1)[0]\n",
        "\n",
        "# uniform distribution over [0, 1)\n",
        "np.random.rand(2)\n",
        "# array([ 0.11570539,  0.35279769])\n",
        "\n",
        "# Return a sample (or samples) from the \"standard normal\" distribution\n",
        "np.random.randn(2)\n",
        "# -> array([-0.27954018,  0.90078368])\n",
        "\n",
        "rows = 20 # rows (m)\n",
        "cols = 6 # columns (n)\n",
        "rand_np = np.random.randn(rows, cols)\n",
        "\n",
        "\n",
        "# one over f distribution. - logspace\n",
        "#logspace 10^1 ... 10^5\n",
        "f1 = np.logspace(0.001,5,18)\n",
        "# to get from 1..5 we have to add log\n",
        "f2 = np.logspace(np.log10(0.001), np.log10(5), 18)\n",
        "fig, axs = plt.subplots(1,3, figsize=(15,5))\n",
        "ax= axs[0]\n",
        "ax.set_title(\"logspace(0.001,5,18)\")\n",
        "ax.plot(f1)\n",
        "ax = axs[1]\n",
        "ax.set_title(\"logspace(np.log10(0.001), np.log10(5), 18)\")\n",
        "ax.plot(f2)\n",
        "\n",
        "# shuffling data\n",
        "np.random.shuffle(data)\n",
        "\n",
        "# sampling (like for Monte Carlo)\n",
        "np.random.choice(np.array([1,2,3,4,5,6,7]), size= 5)"
      ],
      "metadata": {
        "id": "U6ch3lozXbK9",
        "outputId": "e08bd190-4382-4dac-c9fd-c6f19c8005f6",
        "colab": {
          "base_uri": "https://localhost:8080/",
          "height": 303
        }
      },
      "execution_count": null,
      "outputs": [
        {
          "output_type": "stream",
          "name": "stdout",
          "text": [
            "uuid: b7fa26e9-f51f-4e97-a2d4-0ee3d76d2975\n"
          ]
        },
        {
          "output_type": "execute_result",
          "data": {
            "text/plain": [
              "array([7, 4, 5, 2, 7])"
            ]
          },
          "metadata": {},
          "execution_count": 4
        },
        {
          "output_type": "display_data",
          "data": {
            "text/plain": [
              "<Figure size 1080x360 with 3 Axes>"
            ],
            "image/png": "[encoded data removed]"
          },
          "metadata": {
            "needs_background": "light"
          }
        }
      ]
    },
    {
      "cell_type": "code",
      "metadata": {
        "id": "t7chH5VJkgfA",
        "colab": {
          "base_uri": "https://localhost:8080/"
        },
        "outputId": "57f4fa9d-431a-47e9-f033-c75579b3ad75"
      },
      "source": [
        "# inline if\n",
        "# expression_if_true if condition else expression_if_false\n",
        "a= 2\n",
        "1 if a>0 else 0\n",
        "\n",
        "print(f\"a > 0? : {1 if a>0 else 0}\")\n",
        "#wine_data_normalized['boolQuality']=wine_data_normalized['quality'].apply(lambda x: 1 if x> 5 else 0)\n",
        "\n",
        "# inline list calculation\n",
        "ts = [ t+t for t in range(5)]\n",
        "print(ts)"
      ],
      "execution_count": null,
      "outputs": [
        {
          "output_type": "stream",
          "name": "stdout",
          "text": [
            "a > 0? : 1\n",
            "[0, 2, 4, 6, 8]\n"
          ]
        }
      ]
    },
    {
      "cell_type": "markdown",
      "source": [
        "# Datetime"
      ],
      "metadata": {
        "id": "eogKfVpeWAVP"
      }
    },
    {
      "cell_type": "code",
      "metadata": {
        "id": "9rVsPVuI4pIo",
        "outputId": "adf8e4e6-bab1-4cc2-cc56-561ded629c34",
        "colab": {
          "base_uri": "https://localhost:8080/"
        }
      },
      "source": [
        "########\n",
        "#   Datetime\n",
        "########\n",
        "from datetime import datetime, timedelta\n",
        "start_dt = datetime(2021,10,6) # Wednesday\n",
        "#time add or subtract\n",
        "add_dt = start_dt + timedelta(days=6)\n",
        "end_dt = datetime.strptime('2020-01-01 18:27:25', \"%Y-%m-%d %H:%M:%S\")\n",
        "#Print weekday\n",
        "print(start_dt.strftime(\"%a\"))\n",
        "\n",
        "\n",
        "def date_parse_iso_seconds_fraction(date_str, format_str='%Y-%m-%d %H:%M:%S', verbose= False):\n",
        "  #if no date, return None\n",
        "  if date_str is None:\n",
        "    return None\n",
        "  try:\n",
        "    last_dot = date_str.rfind('.')\n",
        "    digits = len(date_str) - last_dot - 1\n",
        "\n",
        "    date_ts = datetime.strptime(date_str[0:last_dot], format_str)#.timestamp()\n",
        "    fraction_str = date_str[last_dot+1:len(date_str)]\n",
        "    fraction = float(fraction_str) / 10**digits\n",
        "    date_ts += timedelta(seconds=fraction)\n",
        "    if verbose:\n",
        "      print(f'digits: {digits} : {fraction_str}')\n",
        "    return date_ts\n",
        "\n",
        "  except Exception as ex:\n",
        "    raise ex\n",
        "    if verbose:\n",
        "      print(ex)\n",
        "    return None\n",
        "\n",
        "class Test_Date(unittest.TestCase):\n",
        "  def test_date_parse_iso_seconds_fraction(self):\n",
        "    # arrange\n",
        "    dates =['2020-01-01 18:27:25.1','2020-01-01 18:27:25.12','2020-01-01 18:27:25.123',\n",
        "            '2020-01-01 18:27:25.1234','2020-01-01 18:27:25.12345','2020-01-01 18:27:25.123456']\n",
        "\n",
        "    # act\n",
        "    results = [date_parse_iso_seconds_fraction(str) for str in dates]\n",
        "    #print(results)\n",
        "    # assert\n",
        "    self.assertEqual(results[0].microsecond,1 * 1e5)\n",
        "    self.assertEqual(results[1].microsecond,12 * 1e4)\n",
        "    self.assertEqual(results[2].microsecond,123 * 1e3)\n",
        "    self.assertEqual(results[3].microsecond,1234 * 1e2)\n",
        "    self.assertEqual(results[4].microsecond,12345 * 1e1)\n",
        "    self.assertEqual(results[5].microsecond,123456 )\n",
        "unittest.main(argv=[''], verbosity=2, exit=False)"
      ],
      "execution_count": null,
      "outputs": [
        {
          "output_type": "stream",
          "name": "stderr",
          "text": [
            "test_date_parse_iso_seconds_fraction (__main__.Test_Date) ... ok\n",
            "test_add_int (__main__.Test_add_int) ... "
          ]
        },
        {
          "output_type": "stream",
          "name": "stdout",
          "text": [
            "Wed\n"
          ]
        },
        {
          "output_type": "stream",
          "name": "stderr",
          "text": [
            "ok\n",
            "\n",
            "----------------------------------------------------------------------\n",
            "Ran 2 tests in 0.006s\n",
            "\n",
            "OK\n"
          ]
        },
        {
          "output_type": "execute_result",
          "data": {
            "text/plain": [
              "<unittest.main.TestProgram at 0x7fbbef7dead0>"
            ]
          },
          "metadata": {},
          "execution_count": 39
        }
      ]
    },
    {
      "cell_type": "code",
      "metadata": {
        "id": "1K85D4QlaVxj",
        "outputId": "8801de6e-c176-4059-e6e4-100d801ad7bb",
        "colab": {
          "base_uri": "https://localhost:8080/"
        }
      },
      "source": [
        "datetime.now().timestamp()"
      ],
      "execution_count": null,
      "outputs": [
        {
          "output_type": "execute_result",
          "data": {
            "text/plain": [
              "1635282194.981052"
            ]
          },
          "metadata": {},
          "execution_count": 29
        }
      ]
    },
    {
      "cell_type": "code",
      "source": [],
      "metadata": {
        "id": "b8WZxpaXvb5z"
      },
      "execution_count": null,
      "outputs": []
    },
    {
      "cell_type": "markdown",
      "source": [
        "#Enumerations and Iterations"
      ],
      "metadata": {
        "id": "NW90SobzV4hT"
      }
    },
    {
      "cell_type": "code",
      "metadata": {
        "id": "YvAmYsgn89f5",
        "colab": {
          "base_uri": "https://localhost:8080/"
        },
        "outputId": "328a41cb-1d6d-4a3a-989f-baf4376e18e9"
      },
      "source": [
        "####\n",
        "#. Enumerations and Iterations\n",
        "###\n",
        "for i,v in enumerate([11,22,33]):\n",
        "  print(f\"Enumerate enum:{i} value: {v}\")\n",
        "\n",
        "for i in range(2,3):\n",
        "  print(f\"Range value {i}\")\n",
        "\n",
        "#will get you the next element\n",
        "n = next(iter([11,22,33]))\n",
        "print(f\"Next/First {n}\")\n",
        "\n",
        "iteration = iter([11,22,33])\n",
        "for i in range(3):\n",
        "  print(next(iteration))"
      ],
      "execution_count": null,
      "outputs": [
        {
          "output_type": "stream",
          "name": "stdout",
          "text": [
            "Enumerate enum:0 value: 11\n",
            "Enumerate enum:1 value: 22\n",
            "Enumerate enum:2 value: 33\n",
            "Range value 2\n",
            "Next/First 11\n",
            "11\n",
            "22\n",
            "33\n"
          ]
        }
      ]
    },
    {
      "cell_type": "markdown",
      "metadata": {
        "id": "WZLkCwuP4paY"
      },
      "source": [
        "# Numpy and Pandas\n",
        "for parquet you have to install pyarrow: `pip install pyarrow`\n",
        "```\n",
        "np.hstack - np.vastck to combine arrays\n",
        "\n",
        "```"
      ]
    },
    {
      "cell_type": "code",
      "source": [
        "import pandas as pd\n",
        "## change string to date\n",
        "items_pd[\"Start\"] = pd.to_datetime(items_pd[\"Start\"], format= \"%Y-%m-%d %H:%M:%S\")\n",
        "# lamda function\n",
        "data_pd['new column'] = data_pd.apply(lambda x: my_function(x[\"Sched_Start_DT\"]), axis =1)"
      ],
      "metadata": {
        "id": "p7m4tGE6rCOx"
      },
      "execution_count": null,
      "outputs": []
    },
    {
      "cell_type": "code",
      "source": [
        "##\n",
        "# Interating, filtering, sorting\n",
        "##\n",
        "\n",
        "# getting columns\n",
        "list(df.columns)\n",
        "\n",
        "# Interating\n",
        "for index, row in df.iterrows():\n",
        "    print(row['name'])\n",
        "\n",
        "# fitlering\n",
        "merged_pd.dropna()\n",
        "## fitler all na recoreds\n",
        "filtered_pd = merged_pd.dropna()\n",
        "#check for contain string\n",
        "filtered_pd =  filtered_pd[filtered_pd['tag'].str.contains(tag)]\n",
        "\n",
        "## join\n",
        "merged_pd = pd.merge(raw_pd, mapping_pd, how='left', left_on='KEY', right_on='id'\n",
        "# or with suffix\n",
        "diff_added = pd.merge(original_pd,compare_pd, how=\"right\", on =on,suffixes= ['_original','_new']))\n",
        "\n",
        "def pd_compare_datasets(original_pd: pd, compare_pd: pd, on : list,  compare_column: str, suffixes=['_o','_c'] ) -> pd:\n",
        "    \"\"\"\n",
        "    Compares two pandas datasets and returns added/deleted records\n",
        "    \"\"\"\n",
        "    diff_added = pd.merge(original_pd,compare_pd, how=\"right\", on =on,suffixes= suffixes)\n",
        "    diff_added = diff_added[diff_added[f'{compare_column}{suffixes[0]}'].isnull()]\n",
        "    diff_del = pd.merge(original_pd,compare_pd, how=\"left\", on = on,suffixes= suffixes)\n",
        "    diff_del = diff_del[diff_del[f'{compare_column}{suffixes[1]}'].isnull()]\n",
        "    return {\n",
        "        'added': diff_added,\n",
        "        'del': diff_del\n",
        "        }\n",
        "\n",
        "###\n",
        "#  Date functions\n",
        "##"
      ],
      "metadata": {
        "id": "xGEq1UBHWwqv"
      },
      "execution_count": null,
      "outputs": []
    },
    {
      "cell_type": "code",
      "source": [
        "import numpy as np\n",
        "# Create data\n",
        "#np array of discreat values\n",
        "'''The essential difference between NumPy linspace and NumPy arange is that\n",
        "linspace enables you to control the precise end value, whereas arange gives you\n",
        "more direct control over the increments between values in the sequence.\n",
        "'''\n",
        "start_interval =1\n",
        "end_inerval = 20\n",
        "howmany =10\n",
        "interval =0.5\n",
        "np.linspace(start_interval, end_inerval, howmany)\n",
        "np.arange(start_interval, end_inerval, interval)\n",
        "\n",
        "rows = 20 # rows (m)\n",
        "cols = 6 # columns (n)\n",
        "data_np  = np.zeros((rows,cols))\n",
        "rand_np = np.random.randn(rows, cols)"
      ],
      "metadata": {
        "id": "OW8WXgZmaJLz"
      },
      "execution_count": null,
      "outputs": []
    },
    {
      "cell_type": "code",
      "source": [
        "import pandas as pd\n",
        "import numpy as np\n",
        "a_np = np.array([[11,22,33],[44,55,66]])\n",
        "# numpy to pandas\n",
        "a_pd = pd.DataFrame(a_np, columns=['a','b','c'])\n",
        "\n",
        "import json\n",
        "# dict to json\n",
        "json.dumps([{'a':1},{'b':1}])\n",
        "\n",
        "## pandas to json/dict\n",
        "a_json = a_pd.to_json(orient='records')\n",
        "a_pd.to_dict('records')\n",
        "## json to pandas\n",
        "a2_pd = pd.read_json(a_json) # could also be a file path or url\n",
        "print(a2_pd)\n",
        "\n",
        "#pandas to json file\n",
        "data_pd.to_json(f'tests/test_data/archive_{archive_date_str}.json', orient='records')\n",
        "\n",
        "# data_pd =pd.read_parquet(f\"{file_name}.parquet\")\n",
        "# data_pd.to_excel(f\"{file_name}.xlsx\",sheet_name=\"Scope_Stability_Raw_7month_ahea\", index = False)"
      ],
      "metadata": {
        "id": "OIkNVTZEYOI7",
        "outputId": "88563c77-2cc0-40f6-9e7d-33c1e0f54f35",
        "colab": {
          "base_uri": "https://localhost:8080/"
        }
      },
      "execution_count": null,
      "outputs": [
        {
          "output_type": "stream",
          "name": "stdout",
          "text": [
            "    a   b   c\n",
            "0  11  22  33\n",
            "1  44  55  66\n"
          ]
        }
      ]
    },
    {
      "cell_type": "code",
      "metadata": {
        "id": "ZB2hk8hDAgEU",
        "colab": {
          "base_uri": "https://localhost:8080/"
        },
        "outputId": "9f97a6bd-9a17-4018-9661-bf3af08a8376"
      },
      "source": [
        "\n",
        "a_np = np.array([[11,22,33],[44,55,66]])\n",
        "# numpy to pandas\n",
        "a_pd = pd.DataFrame(a_np, columns=['a','b','c'])\n",
        "\n",
        "#####\n",
        "#    Combining two Numpy/Array into Pandas Array\n",
        "#####\n",
        "N = 100\n",
        "data1 = np.random.rand(N)\n",
        "data2 = np.random.randn(N)\n",
        "# use vstack to combine data and then transpose\n",
        "data_np = np.vstack((data1, data2)).T\n",
        "data_pd = pd.DataFrame(data = data_np, columns = [\"Random\", \"Normal\"])\n",
        "print(data_pd)\n",
        "# or using a dictonary for creation\n",
        "data2_pd = pd.DataFrame(data = {\"Random\": data1, \"Normal\" :data2})\n",
        "\n",
        "\n",
        "### Combine both with hstack to combine features already in the right shape\n",
        "b_np = a_np.copy() + 40\n",
        "ab_np = np.hstack((a_pd, b_np))\n",
        "ab_pd = pd.DataFrame(ab_np, columns=['a','b','c','d','e','f'])\n",
        "print(ab_pd)\n",
        "\n",
        "# use vsatck to add to numby one dimensonal arrays to a data series\n",
        "N = 100\n",
        "data1 = np.random.rand(N)\n",
        "data2 = np.random.randn(N)\n",
        "# use vstack to combine data and then transpose\n",
        "data_np = np.vstack((data1, data2)).T\n",
        "data_pd = pd.DataFrame(data = data_np, columns = [\"Random\", \"Normal\"])\n",
        "\n",
        "### from and to JSON\n",
        "ab2_dict ={ 'A':1,'B':2 }\n",
        "#from dict\n",
        "ab2_pd = pd.DataFrame([ab2_dict])\n",
        "#to json\n",
        "ab2_json = ab2_pd.to_json(orient='records')\n",
        "print(f\"json: {ab2_json}\")\n",
        "ab3_dict = ab2_pd.to_dict('records')\n",
        "print(f\"dict: {ab3_dict}\")"
      ],
      "execution_count": null,
      "outputs": [
        {
          "output_type": "stream",
          "name": "stdout",
          "text": [
            "      Random    Normal\n",
            "0   0.470923 -0.205153\n",
            "1   0.110652 -0.386213\n",
            "2   0.476152  1.478430\n",
            "3   0.294141 -0.550930\n",
            "4   0.077866  0.058423\n",
            "..       ...       ...\n",
            "95  0.359723  0.030086\n",
            "96  0.954855 -0.294603\n",
            "97  0.535340  0.216102\n",
            "98  0.283317 -0.510530\n",
            "99  0.702384 -0.413734\n",
            "\n",
            "[100 rows x 2 columns]\n",
            "      Random    Normal\n",
            "0   0.470923 -0.205153\n",
            "1   0.110652 -0.386213\n",
            "2   0.476152  1.478430\n",
            "3   0.294141 -0.550930\n",
            "4   0.077866  0.058423\n",
            "..       ...       ...\n",
            "95  0.359723  0.030086\n",
            "96  0.954855 -0.294603\n",
            "97  0.535340  0.216102\n",
            "98  0.283317 -0.510530\n",
            "99  0.702384 -0.413734\n",
            "\n",
            "[100 rows x 2 columns]\n",
            "    a   b   c   d   e    f\n",
            "0  11  22  33  51  62   73\n",
            "1  44  55  66  84  95  106\n",
            "json: [{\"A\":1,\"B\":2}]\n",
            "dict: [{'A': 1, 'B': 2}]\n"
          ]
        }
      ]
    },
    {
      "cell_type": "code",
      "metadata": {
        "id": "u3LsZhtT4-Vb",
        "outputId": "88af790e-acf8-45d7-a254-d7f47df62556",
        "colab": {
          "base_uri": "https://localhost:8080/"
        }
      },
      "source": [
        "#############\n",
        "#     Unit testing\n",
        "#############\n",
        "import unittest\n",
        "# function to be tested\n",
        "def add_int(a:int,b:int ) -> int:\n",
        "  return a+b\n",
        "\n",
        "# Test class\n",
        "class Test_add_int(unittest.TestCase):\n",
        "  def test_add_int(self):\n",
        "    # arrange\n",
        "    a = 2\n",
        "    b =3\n",
        "    # act\n",
        "    c = add_int(a, b)\n",
        "    # assert\n",
        "    self.assertEqual(c, a+b, ' test for sum')\n",
        "\n",
        "# running the tests\n",
        "unittest.main(argv=[''], verbosity=2, exit=False)"
      ],
      "execution_count": null,
      "outputs": [
        {
          "output_type": "stream",
          "name": "stderr",
          "text": [
            "test_add_int (__main__.Test_add_int) ... ok\n",
            "\n",
            "----------------------------------------------------------------------\n",
            "Ran 1 test in 0.004s\n",
            "\n",
            "OK\n"
          ]
        },
        {
          "output_type": "execute_result",
          "data": {
            "text/plain": [
              "<unittest.main.TestProgram at 0x7fbbefa99b50>"
            ]
          },
          "metadata": {},
          "execution_count": 11
        }
      ]
    },
    {
      "cell_type": "markdown",
      "source": [
        "# Arg parsing"
      ],
      "metadata": {
        "id": "teu6WI7iZraR"
      }
    },
    {
      "cell_type": "code",
      "metadata": {
        "id": "Hs5ANrne7niu",
        "outputId": "07035933-8456-4778-b560-7f38c70b3ed8",
        "colab": {
          "base_uri": "https://localhost:8080/",
          "height": 221
        }
      },
      "source": [
        "import argparse\n",
        "parser = argparse.ArgumentParser()\n",
        "parser.add_argument('--pmu_name', type=str, help='PMU name',required=True)\n",
        "parser.add_argument('--learning_rate', type=float, help=\"Model name\",required=True)\n",
        "parser.add_argument('--batch_size', type=int, help=\"Size of batch\",required=True)\n",
        "\n",
        "args = parser.parse_args()\n",
        "\n",
        "pmu_name = args.pmu_name"
      ],
      "execution_count": null,
      "outputs": [
        {
          "output_type": "stream",
          "name": "stderr",
          "text": [
            "usage: ipykernel_launcher.py [-h] --pmu_name PMU_NAME --learning_rate\n",
            "                             LEARNING_RATE --batch_size BATCH_SIZE\n",
            "ipykernel_launcher.py: error: the following arguments are required: --pmu_name, --learning_rate, --batch_size\n"
          ]
        },
        {
          "output_type": "error",
          "ename": "SystemExit",
          "evalue": "ignored",
          "traceback": [
            "An exception has occurred, use %tb to see the full traceback.\n",
            "\u001b[0;31mSystemExit\u001b[0m\u001b[0;31m:\u001b[0m 2\n"
          ]
        },
        {
          "output_type": "stream",
          "name": "stderr",
          "text": [
            "/usr/local/lib/python3.7/dist-packages/IPython/core/interactiveshell.py:2890: UserWarning: To exit: use 'exit', 'quit', or Ctrl-D.\n",
            "  warn(\"To exit: use 'exit', 'quit', or Ctrl-D.\", stacklevel=1)\n"
          ]
        }
      ]
    },
    {
      "cell_type": "markdown",
      "source": [
        "#Pytest\n",
        "pytest.int\n",
        "```\n",
        "[pytest]\n",
        "markers =\n",
        "    sp: Sharepoint tests\n",
        "    manual: Run tests only manual\n",
        "```    \n",
        "\n",
        "```bash\n",
        "# list all markers\n",
        "pytest --markers\n",
        "# run only cetain markers\n",
        "pytest -m sp\n",
        "```"
      ],
      "metadata": {
        "id": "8Ff64sC1pfvT"
      }
    },
    {
      "cell_type": "code",
      "metadata": {
        "id": "byX2M0qX_FnW"
      },
      "source": [
        "#conftest.py\n",
        "@pytest.fixture(scope=\"session\")\n",
        "def app_principal():\n",
        "    print(\"app_principal loaded\")\n",
        "    yield  {\n",
        "        'client_id': '',\n",
        "        'client_secret': '',\n",
        "        }\n",
        "    print(\"app_principal finalized\")\n",
        "### old way\n",
        "# def app_principal(request):\n",
        "#     print(\"app_principal loaded\")\n",
        "\n",
        "#     def app_priniciap_fin():\n",
        "#         print(\"app_principal finished\")\n",
        "#     request.addfinalizer(app_priniciap_fin)\n",
        "#     return {}\n"
      ],
      "execution_count": null,
      "outputs": []
    },
    {
      "cell_type": "code",
      "source": [
        "@pytest.mark.skip\n",
        "@pytest.mark.manual\n",
        "def test_function_manual:\n",
        "  assert ==1\n",
        "\n",
        "# assert exceptions\n",
        "def f():\n",
        "    raise SystemExit(1)\n",
        "\n",
        "\n",
        "def test_mytest():\n",
        "    with pytest.raises(SystemExit):\n",
        "        f()"
      ],
      "metadata": {
        "id": "T0YGmouSqC2-"
      },
      "execution_count": null,
      "outputs": []
    },
    {
      "cell_type": "markdown",
      "source": [
        "# Venvs\n",
        "Build in Python\n",
        "```bash\n",
        "#create virtual directory\n",
        "python -m venv .venv\n",
        "\n",
        "# .venv/pyvenv.cfg has the current active python link in there\n",
        "\n",
        "## Activate\n",
        "#unix/mac\n",
        "source ./.venv/bin/activate\n",
        "# Windows\n",
        "PS> .venv\\Scripts\\activate\n",
        "\n",
        "## Install Packages\n",
        "pip install -r requirement.txt\n",
        "or\n",
        "python -m pip install <package name>\n",
        "\n",
        "## Deactivating\n",
        "deactivate\n",
        "```"
      ],
      "metadata": {
        "id": "aNt4zvVtUUDQ"
      }
    }
  ]
}