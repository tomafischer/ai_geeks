{
  "nbformat": 4,
  "nbformat_minor": 0,
  "metadata": {
    "colab": {
      "name": "Python Snippets.ipynb",
      "provenance": [],
      "authorship_tag": "ABX9TyNX6eUG2napFemD1xmMjdJT",
      "include_colab_link": true
    },
    "kernelspec": {
      "name": "python3",
      "display_name": "Python 3"
    },
    "language_info": {
      "name": "python"
    }
  },
  "cells": [
    {
      "cell_type": "markdown",
      "metadata": {
        "id": "view-in-github",
        "colab_type": "text"
      },
      "source": [
        "<a href=\"https://colab.research.google.com/github/tomafischer/ai_geeks/blob/main/Python_Snippets.ipynb\" target=\"_parent\"><img src=\"https://colab.research.google.com/assets/colab-badge.svg\" alt=\"Open In Colab\"/></a>"
      ]
    },
    {
      "cell_type": "code",
      "metadata": {
        "id": "8JbLCJ_zkO5Y"
      },
      "source": [
        "import os"
      ],
      "execution_count": null,
      "outputs": []
    },
    {
      "cell_type": "code",
      "metadata": {
        "colab": {
          "base_uri": "https://localhost:8080/",
          "height": 35
        },
        "id": "X2fj61E-kTq4",
        "outputId": "c3ce2f24-ac5e-4249-d8bf-2af14623c59c"
      },
      "source": [
        "#####\n",
        "#   Directory, Path functions\n",
        "#####\n",
        "# Get current directory\n",
        "os.getcwd()"
      ],
      "execution_count": null,
      "outputs": [
        {
          "output_type": "execute_result",
          "data": {
            "application/vnd.google.colaboratory.intrinsic+json": {
              "type": "string"
            },
            "text/plain": [
              "'/content'"
            ]
          },
          "metadata": {},
          "execution_count": 2
        }
      ]
    },
    {
      "cell_type": "code",
      "metadata": {
        "id": "t7chH5VJkgfA",
        "outputId": "8531e054-f197-41c3-c29b-94432c233b37",
        "colab": {
          "base_uri": "https://localhost:8080/"
        }
      },
      "source": [
        "# inline if\n",
        "# expression_if_true if condition else expression_if_false\n",
        "a= 2\n",
        "1 if a>0 else 0\n",
        "\n",
        "print(f\"a > 0? : {1 if a>0 else 0}\")\n",
        "#wine_data_normalized['boolQuality']=wine_data_normalized['quality'].apply(lambda x: 1 if x> 5 else 0)"
      ],
      "execution_count": 2,
      "outputs": [
        {
          "output_type": "stream",
          "name": "stdout",
          "text": [
            "a > 0? : 1\n"
          ]
        }
      ]
    },
    {
      "cell_type": "code",
      "metadata": {
        "id": "ZB2hk8hDAgEU"
      },
      "source": [
        ""
      ],
      "execution_count": null,
      "outputs": []
    }
  ]
}