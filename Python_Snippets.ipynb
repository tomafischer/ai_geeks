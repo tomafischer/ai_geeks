{
  "nbformat": 4,
  "nbformat_minor": 0,
  "metadata": {
    "colab": {
      "name": "Python Snippets.ipynb",
      "provenance": [],
      "authorship_tag": "ABX9TyPUD/GduLGB428AVCUqYoZ3",
      "include_colab_link": true
    },
    "kernelspec": {
      "name": "python3",
      "display_name": "Python 3"
    },
    "language_info": {
      "name": "python"
    }
  },
  "cells": [
    {
      "cell_type": "markdown",
      "metadata": {
        "id": "view-in-github",
        "colab_type": "text"
      },
      "source": [
        "<a href=\"https://colab.research.google.com/github/tomafischer/ai_geeks/blob/main/Python_Snippets.ipynb\" target=\"_parent\"><img src=\"https://colab.research.google.com/assets/colab-badge.svg\" alt=\"Open In Colab\"/></a>"
      ]
    },
    {
      "cell_type": "code",
      "metadata": {
        "id": "8JbLCJ_zkO5Y"
      },
      "source": [
        "import os\n",
        "import numpy as np\n",
        "import pandas as pd"
      ],
      "execution_count": 1,
      "outputs": []
    },
    {
      "cell_type": "code",
      "metadata": {
        "colab": {
          "base_uri": "https://localhost:8080/",
          "height": 35
        },
        "id": "X2fj61E-kTq4",
        "outputId": "c3ce2f24-ac5e-4249-d8bf-2af14623c59c"
      },
      "source": [
        "#####\n",
        "#   Directory, Path functions\n",
        "#####\n",
        "# Get current directory\n",
        "os.getcwd()"
      ],
      "execution_count": null,
      "outputs": [
        {
          "output_type": "execute_result",
          "data": {
            "application/vnd.google.colaboratory.intrinsic+json": {
              "type": "string"
            },
            "text/plain": [
              "'/content'"
            ]
          },
          "metadata": {},
          "execution_count": 2
        }
      ]
    },
    {
      "cell_type": "code",
      "metadata": {
        "id": "t7chH5VJkgfA",
        "colab": {
          "base_uri": "https://localhost:8080/"
        },
        "outputId": "8531e054-f197-41c3-c29b-94432c233b37"
      },
      "source": [
        "# inline if\n",
        "# expression_if_true if condition else expression_if_false\n",
        "a= 2\n",
        "1 if a>0 else 0\n",
        "\n",
        "print(f\"a > 0? : {1 if a>0 else 0}\")\n",
        "#wine_data_normalized['boolQuality']=wine_data_normalized['quality'].apply(lambda x: 1 if x> 5 else 0)"
      ],
      "execution_count": null,
      "outputs": [
        {
          "output_type": "stream",
          "name": "stdout",
          "text": [
            "a > 0? : 1\n"
          ]
        }
      ]
    },
    {
      "cell_type": "code",
      "metadata": {
        "id": "YvAmYsgn89f5",
        "outputId": "328a41cb-1d6d-4a3a-989f-baf4376e18e9",
        "colab": {
          "base_uri": "https://localhost:8080/"
        }
      },
      "source": [
        "####\n",
        "#. Enumerations and Iterations\n",
        "###\n",
        "for i,v in enumerate([11,22,33]):\n",
        "  print(f\"Enumerate enum:{i} value: {v}\")\n",
        "\n",
        "for i in range(2,3):\n",
        "  print(f\"Range value {i}\")\n",
        "\n",
        "#will get you the next element \n",
        "n = next(iter([11,22,33]))\n",
        "print(f\"Next/First {n}\")\n",
        "\n",
        "iteration = iter([11,22,33])\n",
        "for i in range(3):\n",
        "  print(next(iteration))"
      ],
      "execution_count": 26,
      "outputs": [
        {
          "output_type": "stream",
          "name": "stdout",
          "text": [
            "Enumerate enum:0 value: 11\n",
            "Enumerate enum:1 value: 22\n",
            "Enumerate enum:2 value: 33\n",
            "Range value 2\n",
            "Next/First 11\n",
            "11\n",
            "22\n",
            "33\n"
          ]
        }
      ]
    },
    {
      "cell_type": "markdown",
      "metadata": {
        "id": "WZLkCwuP4paY"
      },
      "source": [
        "# Numpy and Pandas\n",
        "```\n",
        "np.hstack - np.vastck to combine arrays\n",
        "\n",
        "```"
      ]
    },
    {
      "cell_type": "code",
      "metadata": {
        "id": "ZB2hk8hDAgEU",
        "outputId": "03d64bdf-7d1f-4ea8-ed88-30a7ed3f3102",
        "colab": {
          "base_uri": "https://localhost:8080/"
        }
      },
      "source": [
        "#random\n",
        "rand_np = np.random.randn(5)\n",
        "print(f\"Random: {rand_np}\")\n",
        "a_np = np.array([[11,22,33],[44,55,66]])\n",
        "# numpy to pandas\n",
        "a_pd = pd.DataFrame(a_np, columns=['a','b','c'])\n",
        "print(a_pd)\n",
        "\n",
        "#Combine both with hstack\n",
        "b_np = a_np.copy() + 40\n",
        "ab_np = np.hstack((a_pd, b_np))\n",
        "ab_pd = pd.DataFrame(ab_np, columns=['a','b','c','d','e','f'])\n",
        "print(ab_pd)"
      ],
      "execution_count": 15,
      "outputs": [
        {
          "output_type": "stream",
          "name": "stdout",
          "text": [
            "Random: [-0.02768143  0.99105532  0.80448959  0.42028224  0.57419357]\n",
            "    a   b   c\n",
            "0  11  22  33\n",
            "1  44  55  66\n",
            "    a   b   c   d   e    f\n",
            "0  11  22  33  51  62   73\n",
            "1  44  55  66  84  95  106\n"
          ]
        }
      ]
    },
    {
      "cell_type": "code",
      "metadata": {
        "id": "u3LsZhtT4-Vb"
      },
      "source": [
        ""
      ],
      "execution_count": null,
      "outputs": []
    }
  ]
}