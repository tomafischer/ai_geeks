{
  "nbformat": 4,
  "nbformat_minor": 0,
  "metadata": {
    "colab": {
      "name": "Python Snippets.ipynb",
      "provenance": [],
      "authorship_tag": "ABX9TyMf3iDDiY3fuuVgLp3K7+S6",
      "include_colab_link": true
    },
    "kernelspec": {
      "name": "python3",
      "display_name": "Python 3"
    },
    "language_info": {
      "name": "python"
    }
  },
  "cells": [
    {
      "cell_type": "markdown",
      "metadata": {
        "id": "view-in-github",
        "colab_type": "text"
      },
      "source": [
        "<a href=\"https://colab.research.google.com/github/tomafischer/ai_geeks/blob/main/Python_Snippets.ipynb\" target=\"_parent\"><img src=\"https://colab.research.google.com/assets/colab-badge.svg\" alt=\"Open In Colab\"/></a>"
      ]
    },
    {
      "cell_type": "code",
      "metadata": {
        "id": "8JbLCJ_zkO5Y"
      },
      "source": [
        "import os\n",
        "import numpy as np\n",
        "import pandas as pd"
      ],
      "execution_count": 1,
      "outputs": []
    },
    {
      "cell_type": "code",
      "metadata": {
        "colab": {
          "base_uri": "https://localhost:8080/",
          "height": 35
        },
        "id": "X2fj61E-kTq4",
        "outputId": "c3ce2f24-ac5e-4249-d8bf-2af14623c59c"
      },
      "source": [
        "#####\n",
        "#   Directory, Path functions\n",
        "#####\n",
        "# Get current directory\n",
        "os.getcwd()"
      ],
      "execution_count": null,
      "outputs": [
        {
          "output_type": "execute_result",
          "data": {
            "application/vnd.google.colaboratory.intrinsic+json": {
              "type": "string"
            },
            "text/plain": [
              "'/content'"
            ]
          },
          "metadata": {},
          "execution_count": 2
        }
      ]
    },
    {
      "cell_type": "code",
      "metadata": {
        "id": "t7chH5VJkgfA",
        "colab": {
          "base_uri": "https://localhost:8080/"
        },
        "outputId": "8531e054-f197-41c3-c29b-94432c233b37"
      },
      "source": [
        "# inline if\n",
        "# expression_if_true if condition else expression_if_false\n",
        "a= 2\n",
        "1 if a>0 else 0\n",
        "\n",
        "print(f\"a > 0? : {1 if a>0 else 0}\")\n",
        "#wine_data_normalized['boolQuality']=wine_data_normalized['quality'].apply(lambda x: 1 if x> 5 else 0)\n",
        "\n",
        "# inline list calculation\n",
        "ts = [ t+t for t in range(5)]\n",
        "print(ts)"
      ],
      "execution_count": null,
      "outputs": [
        {
          "output_type": "stream",
          "name": "stdout",
          "text": [
            "a > 0? : 1\n"
          ]
        }
      ]
    },
    {
      "cell_type": "code",
      "metadata": {
        "id": "9rVsPVuI4pIo",
        "outputId": "adf8e4e6-bab1-4cc2-cc56-561ded629c34",
        "colab": {
          "base_uri": "https://localhost:8080/"
        }
      },
      "source": [
        "########\n",
        "#. Datetime\n",
        "########\n",
        "from datetime import datetime, timedelta\n",
        "start_dt = datetime(2021,10,6) # Wednesday\n",
        "end_dt = datetime.strptime('2020-01-01 18:27:25', \"%Y-%m-%d %H:%M:%S\")\n",
        "#Print weekday\n",
        "print(start_dt.strftime(\"%a\"))\n",
        "\n",
        "\n",
        "def date_parse_iso_seconds_fraction(date_str, format_str='%Y-%m-%d %H:%M:%S', verbose= False):\n",
        "  #if no date, return None\n",
        "  if date_str is None:\n",
        "    return None\n",
        "  try:\n",
        "    last_dot = date_str.rfind('.') \n",
        "    digits = len(date_str) - last_dot - 1\n",
        "    \n",
        "    date_ts = datetime.strptime(date_str[0:last_dot], format_str)#.timestamp()\n",
        "    fraction_str = date_str[last_dot+1:len(date_str)]\n",
        "    fraction = float(fraction_str) / 10**digits\n",
        "    date_ts += timedelta(seconds=fraction)\n",
        "    if verbose:\n",
        "      print(f'digits: {digits} : {fraction_str}')\n",
        "    return date_ts\n",
        "      \n",
        "  except Exception as ex:\n",
        "    raise ex\n",
        "    if verbose:\n",
        "      print(ex)\n",
        "    return None\n",
        "\n",
        "class Test_Date(unittest.TestCase):\n",
        "  def test_date_parse_iso_seconds_fraction(self):\n",
        "    # arrange\n",
        "    dates =['2020-01-01 18:27:25.1','2020-01-01 18:27:25.12','2020-01-01 18:27:25.123',\n",
        "            '2020-01-01 18:27:25.1234','2020-01-01 18:27:25.12345','2020-01-01 18:27:25.123456']\n",
        "    \n",
        "    # act\n",
        "    results = [date_parse_iso_seconds_fraction(str) for str in dates]\n",
        "    #print(results)\n",
        "    # assert\n",
        "    self.assertEqual(results[0].microsecond,1 * 1e5)\n",
        "    self.assertEqual(results[1].microsecond,12 * 1e4)\n",
        "    self.assertEqual(results[2].microsecond,123 * 1e3)\n",
        "    self.assertEqual(results[3].microsecond,1234 * 1e2)\n",
        "    self.assertEqual(results[4].microsecond,12345 * 1e1)\n",
        "    self.assertEqual(results[5].microsecond,123456 )\n",
        "unittest.main(argv=[''], verbosity=2, exit=False) "
      ],
      "execution_count": 39,
      "outputs": [
        {
          "output_type": "stream",
          "name": "stderr",
          "text": [
            "test_date_parse_iso_seconds_fraction (__main__.Test_Date) ... ok\n",
            "test_add_int (__main__.Test_add_int) ... "
          ]
        },
        {
          "output_type": "stream",
          "name": "stdout",
          "text": [
            "Wed\n"
          ]
        },
        {
          "output_type": "stream",
          "name": "stderr",
          "text": [
            "ok\n",
            "\n",
            "----------------------------------------------------------------------\n",
            "Ran 2 tests in 0.006s\n",
            "\n",
            "OK\n"
          ]
        },
        {
          "output_type": "execute_result",
          "data": {
            "text/plain": [
              "<unittest.main.TestProgram at 0x7fbbef7dead0>"
            ]
          },
          "metadata": {},
          "execution_count": 39
        }
      ]
    },
    {
      "cell_type": "code",
      "metadata": {
        "id": "1K85D4QlaVxj",
        "outputId": "8801de6e-c176-4059-e6e4-100d801ad7bb",
        "colab": {
          "base_uri": "https://localhost:8080/"
        }
      },
      "source": [
        "datetime.now().timestamp()"
      ],
      "execution_count": 29,
      "outputs": [
        {
          "output_type": "execute_result",
          "data": {
            "text/plain": [
              "1635282194.981052"
            ]
          },
          "metadata": {},
          "execution_count": 29
        }
      ]
    },
    {
      "cell_type": "code",
      "metadata": {
        "id": "-Ytn9-4zaVRw"
      },
      "source": [
        ""
      ],
      "execution_count": null,
      "outputs": []
    },
    {
      "cell_type": "code",
      "metadata": {
        "id": "YvAmYsgn89f5",
        "colab": {
          "base_uri": "https://localhost:8080/"
        },
        "outputId": "328a41cb-1d6d-4a3a-989f-baf4376e18e9"
      },
      "source": [
        "####\n",
        "#. Enumerations and Iterations\n",
        "###\n",
        "for i,v in enumerate([11,22,33]):\n",
        "  print(f\"Enumerate enum:{i} value: {v}\")\n",
        "\n",
        "for i in range(2,3):\n",
        "  print(f\"Range value {i}\")\n",
        "\n",
        "#will get you the next element \n",
        "n = next(iter([11,22,33]))\n",
        "print(f\"Next/First {n}\")\n",
        "\n",
        "iteration = iter([11,22,33])\n",
        "for i in range(3):\n",
        "  print(next(iteration))"
      ],
      "execution_count": null,
      "outputs": [
        {
          "output_type": "stream",
          "name": "stdout",
          "text": [
            "Enumerate enum:0 value: 11\n",
            "Enumerate enum:1 value: 22\n",
            "Enumerate enum:2 value: 33\n",
            "Range value 2\n",
            "Next/First 11\n",
            "11\n",
            "22\n",
            "33\n"
          ]
        }
      ]
    },
    {
      "cell_type": "markdown",
      "metadata": {
        "id": "WZLkCwuP4paY"
      },
      "source": [
        "# Numpy and Pandas\n",
        "```\n",
        "np.hstack - np.vastck to combine arrays\n",
        "\n",
        "```"
      ]
    },
    {
      "cell_type": "code",
      "metadata": {
        "id": "ZB2hk8hDAgEU",
        "colab": {
          "base_uri": "https://localhost:8080/"
        },
        "outputId": "9cf44833-d7fa-478d-86f2-0101d0e3663e"
      },
      "source": [
        "#random\n",
        "rand_np = np.random.randn(5)\n",
        "print(f\"Random: {rand_np}\")\n",
        "a_np = np.array([[11,22,33],[44,55,66]])\n",
        "# numpy to pandas\n",
        "a_pd = pd.DataFrame(a_np, columns=['a','b','c'])\n",
        "print(a_pd)\n",
        "\n",
        "#Combine both with hstack\n",
        "b_np = a_np.copy() + 40\n",
        "ab_np = np.hstack((a_pd, b_np))\n",
        "ab_pd = pd.DataFrame(ab_np, columns=['a','b','c','d','e','f'])\n",
        "print(ab_pd)\n",
        "\n",
        "\n",
        "### from and to JSON\n",
        "ab2_dict ={ 'A':1,'B':2 }\n",
        "#from dict\n",
        "ab2_pd = pd.DataFrame([ab2_dict])\n",
        "#to json\n",
        "ab2_json = ab2_pd.to_json(orient='records')\n",
        "print(f\"json: {ab2_json}\")\n",
        "ab3_dict = ab2_pd.to_dict('records')\n",
        "print(f\"dict: {ab3_dict}\")"
      ],
      "execution_count": 18,
      "outputs": [
        {
          "output_type": "stream",
          "name": "stdout",
          "text": [
            "Random: [ 0.56879467 -0.48566512 -1.31666297 -0.14910656  0.78002883]\n",
            "    a   b   c\n",
            "0  11  22  33\n",
            "1  44  55  66\n",
            "    a   b   c   d   e    f\n",
            "0  11  22  33  51  62   73\n",
            "1  44  55  66  84  95  106\n",
            "json: [{\"A\":1,\"B\":2}]\n",
            "dict: [{'A': 1, 'B': 2}]\n"
          ]
        }
      ]
    },
    {
      "cell_type": "code",
      "metadata": {
        "id": "u3LsZhtT4-Vb",
        "outputId": "88af790e-acf8-45d7-a254-d7f47df62556",
        "colab": {
          "base_uri": "https://localhost:8080/"
        }
      },
      "source": [
        "#############\n",
        "#.  Unit testing\n",
        "#############\n",
        "import unittest\n",
        "# function to be tested\n",
        "def add_int(a:int,b:int ) -> int:\n",
        "  return a+b\n",
        "\n",
        "# Test class\n",
        "class Test_add_int(unittest.TestCase):\n",
        "  def test_add_int(self):\n",
        "    # arrange\n",
        "    a = 2\n",
        "    b =3\n",
        "    # act\n",
        "    c = add_int(a, b)\n",
        "    # assert\n",
        "    self.assertEqual(c, a+b, ' test for sum')\n",
        "\n",
        "# running the tests\n",
        "unittest.main(argv=[''], verbosity=2, exit=False)    "
      ],
      "execution_count": 11,
      "outputs": [
        {
          "output_type": "stream",
          "name": "stderr",
          "text": [
            "test_add_int (__main__.Test_add_int) ... ok\n",
            "\n",
            "----------------------------------------------------------------------\n",
            "Ran 1 test in 0.004s\n",
            "\n",
            "OK\n"
          ]
        },
        {
          "output_type": "execute_result",
          "data": {
            "text/plain": [
              "<unittest.main.TestProgram at 0x7fbbefa99b50>"
            ]
          },
          "metadata": {},
          "execution_count": 11
        }
      ]
    },
    {
      "cell_type": "code",
      "metadata": {
        "id": "Hs5ANrne7niu",
        "outputId": "2ea31b55-f680-4da7-ad8d-6612177d350c",
        "colab": {
          "base_uri": "https://localhost:8080/"
        }
      },
      "source": [
        ""
      ],
      "execution_count": 13,
      "outputs": [
        {
          "output_type": "stream",
          "name": "stdout",
          "text": [
            "[0, 2, 4, 6, 8]\n"
          ]
        }
      ]
    },
    {
      "cell_type": "code",
      "metadata": {
        "id": "byX2M0qX_FnW"
      },
      "source": [
        ""
      ],
      "execution_count": null,
      "outputs": []
    }
  ]
}