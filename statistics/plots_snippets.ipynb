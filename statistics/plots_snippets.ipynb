{
  "nbformat": 4,
  "nbformat_minor": 0,
  "metadata": {
    "colab": {
      "name": "Untitled3.ipynb",
      "provenance": [],
      "authorship_tag": "ABX9TyOiiOOFbJOsiNnuPZX8F/w8",
      "include_colab_link": true
    },
    "kernelspec": {
      "name": "python3",
      "display_name": "Python 3"
    },
    "language_info": {
      "name": "python"
    }
  },
  "cells": [
    {
      "cell_type": "markdown",
      "metadata": {
        "id": "view-in-github",
        "colab_type": "text"
      },
      "source": [
        "<a href=\"https://colab.research.google.com/github/tomafischer/ai_geeks/blob/main/statistics/plots_snippets.ipynb\" target=\"_parent\"><img src=\"https://colab.research.google.com/assets/colab-badge.svg\" alt=\"Open In Colab\"/></a>"
      ]
    },
    {
      "cell_type": "code",
      "execution_count": 1,
      "metadata": {
        "id": "Uf5xj7MEFVXO"
      },
      "outputs": [],
      "source": [
        "# Plots"
      ]
    },
    {
      "cell_type": "code",
      "source": [
        "import matplotlib.pyplot as plt\n",
        "import numpy as np\n",
        "import pandas as pd\n"
      ],
      "metadata": {
        "id": "Cz7cvJ7HFZZF"
      },
      "execution_count": 2,
      "outputs": []
    },
    {
      "cell_type": "code",
      "source": [
        "# create data\n",
        "# An m × n matrix: the m rows are horizontal and the n columns are vertical. \n",
        "m = 20 # rows\n",
        "n = 6 # columns\n",
        "data  = np.zeros((m,n))\n",
        "\n",
        "# growing data threwout the series\n",
        "for i in range(n):\n",
        "  data[:,i] = 25 * np.random.randn(m) * (2*i/(n-1)-1)**2 + (i+1)**2"
      ],
      "metadata": {
        "id": "WUoybWC-Fe9N"
      },
      "execution_count": 20,
      "outputs": []
    },
    {
      "cell_type": "code",
      "source": [
        "data"
      ],
      "metadata": {
        "colab": {
          "base_uri": "https://localhost:8080/"
        },
        "id": "ZJatTh9xFzXC",
        "outputId": "968c5ec7-e87a-4d1d-ed3d-834974fc5b2c"
      },
      "execution_count": 21,
      "outputs": [
        {
          "output_type": "execute_result",
          "data": {
            "text/plain": [
              "array([[-4.68986218e+00,  1.07414272e+01,  8.92937521e+00,\n",
              "         1.57418792e+01,  2.74644741e+01,  3.70077319e+01],\n",
              "       [ 3.86511827e+00,  2.34331248e+00,  8.92214995e+00,\n",
              "         1.57733367e+01,  2.64405660e+01, -9.08756420e+00],\n",
              "       [-3.58719738e-02,  3.25533277e+00,  9.63462254e+00,\n",
              "         1.60964146e+01,  2.63832489e+01,  4.53061431e+01],\n",
              "       [ 2.42614458e+01,  5.82155210e+00,  7.52522310e+00,\n",
              "         1.59903343e+01,  2.73695704e+01,  3.33872187e+01],\n",
              "       [ 3.85927091e+01, -2.53880814e+00,  8.96221827e+00,\n",
              "         1.53055103e+01,  2.75400676e+01,  1.27922574e+01],\n",
              "       [ 8.69483412e+00,  9.29995022e+00,  1.03876606e+01,\n",
              "         1.72193168e+01,  1.71395389e+01,  2.79940744e+01],\n",
              "       [ 1.74437863e+01, -2.36833134e+00,  9.62199303e+00,\n",
              "         1.70157300e+01,  2.85887820e+01,  5.77428026e+01],\n",
              "       [ 2.65156997e+00,  1.21319150e+01,  1.02405647e+01,\n",
              "         1.70072401e+01,  1.28500028e+01, -3.51431193e+00],\n",
              "       [ 1.37852028e+01,  6.94583441e+00,  8.21911840e+00,\n",
              "         1.60480848e+01,  2.20916510e+01,  6.42485261e+01],\n",
              "       [ 1.89331300e+01, -1.17346593e+00,  9.18961946e+00,\n",
              "         1.46626554e+01,  1.73745644e+01,  4.89707711e+01],\n",
              "       [-3.56817341e+01,  1.41047388e+01,  7.84188662e+00,\n",
              "         1.55935059e+01,  1.95491502e+01,  1.15097617e+01],\n",
              "       [ 2.14635408e+01,  8.66732650e+00,  1.03782369e+01,\n",
              "         1.55938823e+01,  2.51278166e+01,  6.84803620e+01],\n",
              "       [-9.47062797e+00,  5.67559690e+00,  8.53565059e+00,\n",
              "         1.53617708e+01,  3.14827285e+01,  7.46340217e+01],\n",
              "       [ 5.18287043e+01,  1.34512713e+01,  8.99376206e+00,\n",
              "         1.64803949e+01,  1.37553707e+01, -3.08525972e+01],\n",
              "       [ 2.99214271e+00, -4.55646494e+00,  9.21209891e+00,\n",
              "         1.62284536e+01,  2.54328348e+01,  1.02053505e+02],\n",
              "       [-2.22382542e+00, -3.17046299e-01,  8.48654711e+00,\n",
              "         1.69327145e+01,  2.54577522e+01,  4.48846700e+01],\n",
              "       [-1.03177071e+01,  4.67506172e-01,  9.12620714e+00,\n",
              "         1.68947346e+01,  3.00283931e+01,  1.74274013e+01],\n",
              "       [ 2.36263962e+01, -5.55110205e+00,  7.53804809e+00,\n",
              "         1.58470747e+01,  3.49195313e+01,  4.41045896e+01],\n",
              "       [-2.10379560e+00,  7.39237317e+00,  8.17289517e+00,\n",
              "         1.52168165e+01,  8.72214409e+00,  2.88865812e+01],\n",
              "       [ 2.25619382e+01,  8.35868708e+00,  9.61788613e+00,\n",
              "         1.61389322e+01,  2.12709356e+01,  5.12854419e+01]])"
            ]
          },
          "metadata": {},
          "execution_count": 21
        }
      ]
    },
    {
      "cell_type": "code",
      "source": [
        "data"
      ],
      "metadata": {
        "colab": {
          "base_uri": "https://localhost:8080/"
        },
        "id": "-6Dfeqb2F3Xu",
        "outputId": "660b9fac-9da2-4acc-c08e-8c836c8f44a4"
      },
      "execution_count": 17,
      "outputs": [
        {
          "output_type": "execute_result",
          "data": {
            "text/plain": [
              "array([[0., 0., 1., 0., 0., 0., 0.],\n",
              "       [0., 0., 1., 0., 0., 0., 0.],\n",
              "       [0., 0., 1., 0., 0., 0., 0.],\n",
              "       [0., 0., 1., 0., 0., 0., 0.],\n",
              "       [0., 0., 1., 0., 0., 0., 0.],\n",
              "       [0., 0., 1., 0., 0., 0., 0.],\n",
              "       [0., 0., 1., 0., 0., 0., 0.],\n",
              "       [0., 0., 1., 0., 0., 0., 0.],\n",
              "       [0., 0., 1., 0., 0., 0., 0.],\n",
              "       [0., 0., 1., 0., 0., 0., 0.],\n",
              "       [0., 0., 1., 0., 0., 0., 0.],\n",
              "       [0., 0., 1., 0., 0., 0., 0.],\n",
              "       [0., 0., 1., 0., 0., 0., 0.],\n",
              "       [0., 0., 1., 0., 0., 0., 0.],\n",
              "       [0., 0., 1., 0., 0., 0., 0.],\n",
              "       [0., 0., 1., 0., 0., 0., 0.],\n",
              "       [0., 0., 1., 0., 0., 0., 0.],\n",
              "       [0., 0., 1., 0., 0., 0., 0.],\n",
              "       [0., 0., 1., 0., 0., 0., 0.],\n",
              "       [0., 0., 1., 0., 0., 0., 0.]])"
            ]
          },
          "metadata": {},
          "execution_count": 17
        }
      ]
    },
    {
      "cell_type": "code",
      "source": [
        ""
      ],
      "metadata": {
        "id": "AoTXRuP3IgOH"
      },
      "execution_count": null,
      "outputs": []
    }
  ]
}