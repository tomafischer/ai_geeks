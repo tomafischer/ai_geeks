{
  "nbformat": 4,
  "nbformat_minor": 0,
  "metadata": {
    "colab": {
      "name": "Plot_snippets.ipynb",
      "provenance": [],
      "authorship_tag": "ABX9TyO1vid4APDjafjNzvdEDwJD",
      "include_colab_link": true
    },
    "kernelspec": {
      "name": "python3",
      "display_name": "Python 3"
    },
    "language_info": {
      "name": "python"
    }
  },
  "cells": [
    {
      "cell_type": "markdown",
      "metadata": {
        "id": "view-in-github",
        "colab_type": "text"
      },
      "source": [
        "<a href=\"https://colab.research.google.com/github/tomafischer/ai_geeks/blob/main/statistics/Plot_snippets.ipynb\" target=\"_parent\"><img src=\"https://colab.research.google.com/assets/colab-badge.svg\" alt=\"Open In Colab\"/></a>"
      ]
    },
    {
      "cell_type": "code",
      "execution_count": null,
      "metadata": {
        "id": "pAoPWMp7lU0j"
      },
      "outputs": [],
      "source": [
        "import matplotlib.pyplot as plt\n",
        "import numpy as np\n",
        "import pandas as pd\n"
      ]
    },
    {
      "cell_type": "code",
      "source": [
        "# create data\n",
        "# An m × n matrix: the m rows are horizontal and the n columns are vertical. \n",
        "m = 20 # rows\n",
        "n = 6 # columns\n",
        "data  = np.zeros((m,n))\n",
        "\n",
        "# growing data threwout the series\n",
        "for i in range(n):\n",
        "  data[:,i] = 25 * np.random.randn(m) * (2*i/(n-1)-1)**2 + (i+1)**2"
      ],
      "metadata": {
        "id": "NeNe1xKClg92"
      },
      "execution_count": null,
      "outputs": []
    }
  ]
}