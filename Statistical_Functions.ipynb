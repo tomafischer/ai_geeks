{
  "nbformat": 4,
  "nbformat_minor": 0,
  "metadata": {
    "colab": {
      "name": "Statistical Functions.ipynb",
      "provenance": [],
      "authorship_tag": "ABX9TyPKyZV9ALyFEK8AQWoSWwjL",
      "include_colab_link": true
    },
    "kernelspec": {
      "name": "python3",
      "display_name": "Python 3"
    },
    "language_info": {
      "name": "python"
    }
  },
  "cells": [
    {
      "cell_type": "markdown",
      "metadata": {
        "id": "view-in-github",
        "colab_type": "text"
      },
      "source": [
        "<a href=\"https://colab.research.google.com/github/tomafischer/ai_geeks/blob/main/Statistical_Functions.ipynb\" target=\"_parent\"><img src=\"https://colab.research.google.com/assets/colab-badge.svg\" alt=\"Open In Colab\"/></a>"
      ]
    },
    {
      "cell_type": "code",
      "metadata": {
        "id": "cTIPHygmRmGY"
      },
      "source": [
        "import numpy as np\n",
        "import torch \n",
        "import matplotlib.pyplot as plt"
      ],
      "execution_count": 1,
      "outputs": []
    },
    {
      "cell_type": "code",
      "metadata": {
        "id": "bgVTTMXgY4Yl"
      },
      "source": [
        ""
      ],
      "execution_count": 1,
      "outputs": []
    },
    {
      "cell_type": "markdown",
      "metadata": {
        "id": "-14fbxJBZsBy"
      },
      "source": [
        "# Logistic Function - Sigmoid Function\n",
        "https://en.wikipedia.org/wiki/Logistic_function\n",
        "\n",
        "$\n",
        "f(x) = \\frac{1}{1 + e^{-\\beta x}}\n",
        "$"
      ]
    },
    {
      "cell_type": "code",
      "metadata": {
        "id": "jaR7MGtVZtl_"
      },
      "source": [
        "x = np.linspace(-6, 6, 48)\n",
        "\n",
        "def sigmoid_np(x :np.array, b: float) -> np.array: \n",
        "  \"\"\"\n",
        "  numpy implementation of sigmoid\n",
        "  \"\"\"\n",
        "  return 1/ (1 + np.exp(-b*x))"
      ],
      "execution_count": 17,
      "outputs": []
    },
    {
      "cell_type": "code",
      "metadata": {
        "id": "RHYpx79sbSB9"
      },
      "source": [
        "sigmoid_from_torch = torch.sigmoid(torch.tensor(x).float()).numpy()\n",
        "sigmoid_from_np = sigmoid_np(x, 1)"
      ],
      "execution_count": 23,
      "outputs": []
    },
    {
      "cell_type": "code",
      "metadata": {
        "colab": {
          "base_uri": "https://localhost:8080/"
        },
        "id": "k8ER0wCqbt9z",
        "outputId": "1dad7639-5415-46aa-e3f2-b083dacc6c70"
      },
      "source": [
        "# diff between sigmoid manualy and sigmoid_diff = sigmoid_from_np - sigmoid_from_torch\n",
        "print(sigmoid_diff)"
      ],
      "execution_count": 24,
      "outputs": [
        {
          "output_type": "stream",
          "name": "stdout",
          "text": [
            "[ 1.38086882e-10  2.60953598e-11  2.95073680e-10  5.75886127e-10\n",
            "  7.15456339e-10  9.43759159e-10  2.46143381e-09  2.72878376e-09\n",
            " -1.54485383e-11  6.75221774e-10  1.78203061e-09  2.11747730e-09\n",
            " -2.24629003e-09 -5.74466745e-09 -1.02657140e-08 -5.34611425e-09\n",
            " -2.92448243e-09  1.68147282e-09 -1.19834052e-08 -1.66483831e-08\n",
            " -1.84695825e-09  1.81525812e-08  1.59278441e-08 -4.29908831e-09\n",
            "  4.29908809e-09  1.38744781e-08  1.16497409e-08 -5.77576867e-08\n",
            " -1.31539395e-08  4.17857275e-08 -1.68147296e-09 -4.17790013e-08\n",
            "  5.75001784e-08  6.98703586e-08 -9.15649379e-09  6.55762251e-08\n",
            "  5.00365869e-08  8.06145151e-11 -3.79281249e-08  3.35430611e-08\n",
            " -5.02262351e-08 -1.73625949e-08  1.11634343e-08 -3.51743916e-08\n",
            " -2.71185794e-08  6.22418439e-09 -4.56609015e-08 -4.36774171e-08]\n"
          ]
        }
      ]
    },
    {
      "cell_type": "code",
      "metadata": {
        "id": "nfTTxEl9hklA"
      },
      "source": [
        ""
      ],
      "execution_count": null,
      "outputs": []
    }
  ]
}